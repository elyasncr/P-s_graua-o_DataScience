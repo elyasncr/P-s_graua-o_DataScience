{
  "cells": [
    {
      "cell_type": "markdown",
      "metadata": {
        "id": "view-in-github",
        "colab_type": "text"
      },
      "source": [
        "<a href=\"https://colab.research.google.com/github/elyasncr/Pos_graduacao_DataScience/blob/main/4_Correla%C3%A7%C3%A3o_de_dados.ipynb\" target=\"_parent\"><img src=\"https://colab.research.google.com/assets/colab-badge.svg\" alt=\"Open In Colab\"/></a>"
      ]
    },
    {
      "cell_type": "markdown",
      "id": "d537ac19",
      "metadata": {
        "id": "d537ac19"
      },
      "source": [
        "# `correlação`.\n",
        "\n",
        "### A correlação é uma medida que tenta identificar o grau de relacionamento entre duas variáveis. Ela é muito útil para entender se uma variável exerce influência em outra. Por exemplo, a altura é correlacionada com a idade de uma criança?\n",
        "\n",
        "\n",
        "\n",
        "![alt_text](https://dataunirio.github.io/AulaCorrelacao/img/correlacao.png)"
      ]
    },
    {
      "cell_type": "markdown",
      "id": "c66f84f4",
      "metadata": {
        "id": "c66f84f4"
      },
      "source": [
        "<br>"
      ]
    },
    {
      "cell_type": "markdown",
      "id": "002041f4",
      "metadata": {
        "id": "002041f4"
      },
      "source": [
        "<br>"
      ]
    },
    {
      "cell_type": "markdown",
      "id": "ac1107bb",
      "metadata": {
        "id": "ac1107bb"
      },
      "source": [
        "### A correlação varia entre -1 e 1: se assumir o valor -1, as variáveis são totalmente correlacionadas uma com a outra, sendo que enquanto uma cresce, a outra diminui. Quando a correlação assume valor 1, vice e versa. Quando for 0, indica que as variáveis não são relacionadas.\n",
        "\n",
        "![alt_text](https://d33wubrfki0l68.cloudfront.net/e3b158e0207e1a80248bc0d7283f6eee638d5e72/4f6f0/blog/correlacao_files/figure-html/unnamed-chunk-4-1.png)"
      ]
    },
    {
      "cell_type": "markdown",
      "id": "0a307dcc",
      "metadata": {
        "id": "0a307dcc"
      },
      "source": [
        "<br>"
      ]
    },
    {
      "cell_type": "markdown",
      "id": "8b7e94b1",
      "metadata": {
        "id": "8b7e94b1"
      },
      "source": [
        "<br>"
      ]
    },
    {
      "cell_type": "markdown",
      "id": "e01677a5",
      "metadata": {
        "id": "e01677a5"
      },
      "source": [
        "<br>"
      ]
    },
    {
      "cell_type": "markdown",
      "id": "0b16c7c4",
      "metadata": {
        "id": "0b16c7c4"
      },
      "source": [
        "## Existem várias formas de se calcular a correlação entre duas variáveis. Podemos dividi-las em 2 tipos de correlação, as lineares e as não lineares.\n",
        "\n",
        "![alt_text](https://miro.medium.com/max/812/1*O2WOYcjo70vBDQHtvyiJzA.png)"
      ]
    },
    {
      "cell_type": "markdown",
      "id": "b97618b0",
      "metadata": {
        "id": "b97618b0"
      },
      "source": [
        "### Correlação de Pearson"
      ]
    },
    {
      "cell_type": "markdown",
      "id": "bfa0e70e",
      "metadata": {
        "id": "bfa0e70e"
      },
      "source": [
        "O Coeficiente de Correlação de Pearson é uma técnica para medir se duas variáveis estão relacionadas de maneira linear. Essa é a correlação mais conhecida e mais utilizada."
      ]
    },
    {
      "cell_type": "code",
      "execution_count": null,
      "id": "303dd953",
      "metadata": {
        "id": "303dd953"
      },
      "outputs": [],
      "source": [
        "from scipy.stats import pearsonr\n",
        "import numpy as np"
      ]
    },
    {
      "cell_type": "code",
      "execution_count": null,
      "id": "17905a7b",
      "metadata": {
        "id": "17905a7b"
      },
      "outputs": [],
      "source": []
    },
    {
      "cell_type": "markdown",
      "id": "634eccb8",
      "metadata": {
        "id": "634eccb8"
      },
      "source": [
        "#### Vamos ver um exemplo da correlação de pearson"
      ]
    },
    {
      "cell_type": "code",
      "execution_count": null,
      "id": "91c521f8",
      "metadata": {
        "id": "91c521f8",
        "outputId": "746cd816-2393-4c61-d237-07e985f19288"
      },
      "outputs": [
        {
          "data": {
            "text/plain": [
              "array([ 5,  8, 11, 14, 17])"
            ]
          },
          "execution_count": 13,
          "metadata": {},
          "output_type": "execute_result"
        }
      ],
      "source": [
        "a = np.array([1, 2, 3, 4, 5])\n",
        "\n",
        "b = a * 3 + 2\n",
        "b"
      ]
    },
    {
      "cell_type": "markdown",
      "id": "9c6339d2",
      "metadata": {
        "id": "9c6339d2"
      },
      "source": [
        "#### Perceba que b é uma combinação linear de a. Isso porque b = a * constante1 + constante2. Portanto, b é completamente dependente de a, e a relação deles é linear. Vamos ver qual será o resultado da correlação de pearson."
      ]
    },
    {
      "cell_type": "code",
      "execution_count": null,
      "id": "5d7d1a23",
      "metadata": {
        "id": "5d7d1a23"
      },
      "outputs": [],
      "source": []
    },
    {
      "cell_type": "code",
      "execution_count": null,
      "id": "9876231f",
      "metadata": {
        "id": "9876231f",
        "outputId": "0bd5c6f4-6fce-4dea-d85c-0fcf30892fc5"
      },
      "outputs": [
        {
          "data": {
            "text/plain": [
              "(1.0, 0.0)"
            ]
          },
          "execution_count": 14,
          "metadata": {},
          "output_type": "execute_result"
        }
      ],
      "source": [
        "pearsonr(a, b)"
      ]
    },
    {
      "cell_type": "code",
      "execution_count": null,
      "id": "80106e19",
      "metadata": {
        "id": "80106e19"
      },
      "outputs": [],
      "source": []
    },
    {
      "cell_type": "markdown",
      "id": "e4e14ecd",
      "metadata": {
        "id": "e4e14ecd"
      },
      "source": [
        "#### Agora, vamos mudar a e b um pouquinho"
      ]
    },
    {
      "cell_type": "code",
      "execution_count": null,
      "id": "a481d1a0",
      "metadata": {
        "id": "a481d1a0",
        "outputId": "eb115d21-7086-44e2-c74e-14a8374522d2"
      },
      "outputs": [
        {
          "data": {
            "text/plain": [
              "array([  3,  10,  29,  66, 127])"
            ]
          },
          "execution_count": 15,
          "metadata": {},
          "output_type": "execute_result"
        }
      ],
      "source": [
        "a = np.array([1, 2, 3, 4, 5])\n",
        "\n",
        "b = a ** 3 + 2\n",
        "b"
      ]
    },
    {
      "cell_type": "markdown",
      "id": "e49dc371",
      "metadata": {
        "id": "e49dc371"
      },
      "source": [
        "#### Apesar de b ainda ser completamente dependente de a, b já não é uma combinação linear de a. Vamos ver o resultado da correlação de pearson nesse caso."
      ]
    },
    {
      "cell_type": "code",
      "execution_count": null,
      "id": "b0210282",
      "metadata": {
        "id": "b0210282"
      },
      "outputs": [],
      "source": []
    },
    {
      "cell_type": "code",
      "execution_count": null,
      "id": "b67dd7ae",
      "metadata": {
        "id": "b67dd7ae",
        "outputId": "d99aad80-ce31-4794-f56c-347a10f53895"
      },
      "outputs": [
        {
          "data": {
            "text/plain": [
              "(0.9431175138077005, 0.01614585528863041)"
            ]
          },
          "execution_count": 16,
          "metadata": {},
          "output_type": "execute_result"
        }
      ],
      "source": [
        "pearsonr(a, b)"
      ]
    },
    {
      "cell_type": "code",
      "execution_count": null,
      "id": "7708b9d5",
      "metadata": {
        "id": "7708b9d5"
      },
      "outputs": [],
      "source": []
    },
    {
      "cell_type": "markdown",
      "id": "b274cfcd",
      "metadata": {
        "id": "b274cfcd"
      },
      "source": [
        "#### Mesmo b sendo totalmente dependente de a, a correlação nao foi 1! Isso porque a relação entre eles não é linear."
      ]
    },
    {
      "cell_type": "markdown",
      "id": "c15d6a02",
      "metadata": {
        "id": "c15d6a02"
      },
      "source": [
        "<br>"
      ]
    },
    {
      "cell_type": "code",
      "execution_count": null,
      "id": "b5ee016f",
      "metadata": {
        "id": "b5ee016f"
      },
      "outputs": [],
      "source": []
    },
    {
      "cell_type": "code",
      "execution_count": null,
      "id": "aacfdaf9",
      "metadata": {
        "id": "aacfdaf9"
      },
      "outputs": [],
      "source": []
    },
    {
      "cell_type": "markdown",
      "id": "490cda6c",
      "metadata": {
        "id": "490cda6c"
      },
      "source": [
        "### Vamos continuar usando os dados do preço do Big Mac de Julho de 2022.\n",
        "\n",
        "<br>\n",
        "\n",
        "https://www.kaggle.com/datasets/vittoriogiatti/bigmacprice"
      ]
    },
    {
      "cell_type": "markdown",
      "id": "297c43c5",
      "metadata": {
        "id": "297c43c5"
      },
      "source": [
        "#### Importando a biblioteca pandas (https://pandas.pydata.org)"
      ]
    },
    {
      "cell_type": "code",
      "execution_count": null,
      "id": "a00884b3",
      "metadata": {
        "id": "a00884b3"
      },
      "outputs": [],
      "source": [
        "import pandas"
      ]
    },
    {
      "cell_type": "markdown",
      "id": "1aaf55fa",
      "metadata": {
        "id": "1aaf55fa"
      },
      "source": [
        "#### Lendo os dados, que estão em csv"
      ]
    },
    {
      "cell_type": "code",
      "execution_count": null,
      "id": "77ed9b87",
      "metadata": {
        "id": "77ed9b87"
      },
      "outputs": [],
      "source": [
        "df = pandas.read_csv('BigmacPriceJuly2022.csv')"
      ]
    },
    {
      "cell_type": "code",
      "execution_count": null,
      "id": "eebe356a",
      "metadata": {
        "id": "eebe356a",
        "outputId": "a1b60960-f275-45d4-f9be-c923a17c735a"
      },
      "outputs": [
        {
          "data": {
            "text/html": [
              "<div>\n",
              "<style scoped>\n",
              "    .dataframe tbody tr th:only-of-type {\n",
              "        vertical-align: middle;\n",
              "    }\n",
              "\n",
              "    .dataframe tbody tr th {\n",
              "        vertical-align: top;\n",
              "    }\n",
              "\n",
              "    .dataframe thead th {\n",
              "        text-align: right;\n",
              "    }\n",
              "</style>\n",
              "<table border=\"1\" class=\"dataframe\">\n",
              "  <thead>\n",
              "    <tr style=\"text-align: right;\">\n",
              "      <th></th>\n",
              "      <th>date</th>\n",
              "      <th>currency_code</th>\n",
              "      <th>name</th>\n",
              "      <th>local_price</th>\n",
              "      <th>dollar_ex</th>\n",
              "      <th>dollar_price</th>\n",
              "    </tr>\n",
              "  </thead>\n",
              "  <tbody>\n",
              "    <tr>\n",
              "      <th>0</th>\n",
              "      <td>2022-07-01</td>\n",
              "      <td>ARS</td>\n",
              "      <td>Argentina</td>\n",
              "      <td>590.00</td>\n",
              "      <td>129</td>\n",
              "      <td>4.57</td>\n",
              "    </tr>\n",
              "    <tr>\n",
              "      <th>1</th>\n",
              "      <td>2022-07-01</td>\n",
              "      <td>AUD</td>\n",
              "      <td>Australia</td>\n",
              "      <td>6.70</td>\n",
              "      <td>1</td>\n",
              "      <td>6.70</td>\n",
              "    </tr>\n",
              "    <tr>\n",
              "      <th>2</th>\n",
              "      <td>2022-07-01</td>\n",
              "      <td>EUR</td>\n",
              "      <td>Austria</td>\n",
              "      <td>4.35</td>\n",
              "      <td>1</td>\n",
              "      <td>4.35</td>\n",
              "    </tr>\n",
              "    <tr>\n",
              "      <th>3</th>\n",
              "      <td>2022-07-01</td>\n",
              "      <td>AZN</td>\n",
              "      <td>Azerbaijan</td>\n",
              "      <td>4.70</td>\n",
              "      <td>1</td>\n",
              "      <td>4.70</td>\n",
              "    </tr>\n",
              "    <tr>\n",
              "      <th>4</th>\n",
              "      <td>2022-07-01</td>\n",
              "      <td>BHD</td>\n",
              "      <td>Bahrain</td>\n",
              "      <td>1.60</td>\n",
              "      <td>1</td>\n",
              "      <td>1.60</td>\n",
              "    </tr>\n",
              "  </tbody>\n",
              "</table>\n",
              "</div>"
            ],
            "text/plain": [
              "         date currency_code        name  local_price  dollar_ex  dollar_price\n",
              "0  2022-07-01           ARS   Argentina       590.00        129          4.57\n",
              "1  2022-07-01           AUD   Australia         6.70          1          6.70\n",
              "2  2022-07-01           EUR     Austria         4.35          1          4.35\n",
              "3  2022-07-01           AZN  Azerbaijan         4.70          1          4.70\n",
              "4  2022-07-01           BHD     Bahrain         1.60          1          1.60"
            ]
          },
          "execution_count": 20,
          "metadata": {},
          "output_type": "execute_result"
        }
      ],
      "source": [
        "df.head()"
      ]
    },
    {
      "cell_type": "markdown",
      "id": "adb86f1b",
      "metadata": {
        "id": "adb86f1b"
      },
      "source": [
        "### Descrição das colunas\n",
        "\n",
        "* **`date`** - Data do registro\n",
        "* **`currency_code`** - Código ISO 4217 internacional da moeda do país\n",
        "* **`name`** - Nome do país\n",
        "* **`local_price`** - Preço do Big Mac na moeda local\n",
        "* **`dollar_ex`** - Taxa de Conversão do dólar americano para a moeda local\n",
        "* **`local_price`** - Preço do Big Mac em dólares americanos\n"
      ]
    },
    {
      "cell_type": "code",
      "execution_count": null,
      "id": "2853b763",
      "metadata": {
        "id": "2853b763"
      },
      "outputs": [],
      "source": []
    },
    {
      "cell_type": "markdown",
      "id": "137a25b5",
      "metadata": {
        "id": "137a25b5"
      },
      "source": [
        "### O cálculo da correlação de pearson no pandas é bem simples"
      ]
    },
    {
      "cell_type": "code",
      "execution_count": null,
      "id": "586e26db",
      "metadata": {
        "id": "586e26db",
        "outputId": "a91f40fb-69db-48a2-c417-4300310bbbff"
      },
      "outputs": [
        {
          "data": {
            "text/html": [
              "<div>\n",
              "<style scoped>\n",
              "    .dataframe tbody tr th:only-of-type {\n",
              "        vertical-align: middle;\n",
              "    }\n",
              "\n",
              "    .dataframe tbody tr th {\n",
              "        vertical-align: top;\n",
              "    }\n",
              "\n",
              "    .dataframe thead th {\n",
              "        text-align: right;\n",
              "    }\n",
              "</style>\n",
              "<table border=\"1\" class=\"dataframe\">\n",
              "  <thead>\n",
              "    <tr style=\"text-align: right;\">\n",
              "      <th></th>\n",
              "      <th>local_price</th>\n",
              "      <th>dollar_ex</th>\n",
              "      <th>dollar_price</th>\n",
              "    </tr>\n",
              "  </thead>\n",
              "  <tbody>\n",
              "    <tr>\n",
              "      <th>local_price</th>\n",
              "      <td>1.000000</td>\n",
              "      <td>0.954986</td>\n",
              "      <td>-0.002980</td>\n",
              "    </tr>\n",
              "    <tr>\n",
              "      <th>dollar_ex</th>\n",
              "      <td>0.954986</td>\n",
              "      <td>1.000000</td>\n",
              "      <td>-0.063468</td>\n",
              "    </tr>\n",
              "    <tr>\n",
              "      <th>dollar_price</th>\n",
              "      <td>-0.002980</td>\n",
              "      <td>-0.063468</td>\n",
              "      <td>1.000000</td>\n",
              "    </tr>\n",
              "  </tbody>\n",
              "</table>\n",
              "</div>"
            ],
            "text/plain": [
              "              local_price  dollar_ex  dollar_price\n",
              "local_price      1.000000   0.954986     -0.002980\n",
              "dollar_ex        0.954986   1.000000     -0.063468\n",
              "dollar_price    -0.002980  -0.063468      1.000000"
            ]
          },
          "execution_count": 22,
          "metadata": {},
          "output_type": "execute_result"
        }
      ],
      "source": [
        "df.corr()"
      ]
    },
    {
      "cell_type": "markdown",
      "id": "e504c95d",
      "metadata": {
        "id": "e504c95d"
      },
      "source": [
        " "
      ]
    },
    {
      "cell_type": "markdown",
      "id": "9320f71b",
      "metadata": {
        "id": "9320f71b"
      },
      "source": [
        "#### Por padrão, o pandas calcula a correlação de Pearson"
      ]
    },
    {
      "cell_type": "code",
      "execution_count": null,
      "id": "f304c2b8",
      "metadata": {
        "id": "f304c2b8"
      },
      "outputs": [],
      "source": []
    },
    {
      "cell_type": "code",
      "execution_count": null,
      "id": "ce231832",
      "metadata": {
        "id": "ce231832"
      },
      "outputs": [],
      "source": []
    },
    {
      "cell_type": "code",
      "execution_count": null,
      "id": "127347c6",
      "metadata": {
        "id": "127347c6"
      },
      "outputs": [],
      "source": []
    },
    {
      "cell_type": "code",
      "execution_count": null,
      "id": "869d7be9",
      "metadata": {
        "id": "869d7be9"
      },
      "outputs": [],
      "source": []
    },
    {
      "cell_type": "code",
      "execution_count": null,
      "id": "1841e972",
      "metadata": {
        "id": "1841e972"
      },
      "outputs": [],
      "source": []
    },
    {
      "cell_type": "markdown",
      "id": "a3f6ea95",
      "metadata": {
        "id": "a3f6ea95"
      },
      "source": [
        "### Correlação de Spearman"
      ]
    },
    {
      "cell_type": "markdown",
      "id": "6fa212cd",
      "metadata": {
        "id": "6fa212cd"
      },
      "source": [
        "A correlação de Spearman, de maneira simplificada, analisa se quando o valor de uma variável aumenta ou diminui, o valor da outra variável aumenta ou diminui.\n",
        "\n",
        "Uma vez que a correlação de Spearman segue essa lógica e não tem pressupostos lineares como na correlação de Pearson, é possível utilizá-la para relações não lineares."
      ]
    },
    {
      "cell_type": "code",
      "execution_count": null,
      "id": "b22b07ce",
      "metadata": {
        "id": "b22b07ce"
      },
      "outputs": [],
      "source": [
        "from scipy.stats import spearmanr"
      ]
    },
    {
      "cell_type": "markdown",
      "id": "ab6d94e8",
      "metadata": {
        "id": "ab6d94e8"
      },
      "source": [
        "#### Vamos repetir os exemplos e ver como a correlação de Spearman se comporta"
      ]
    },
    {
      "cell_type": "code",
      "execution_count": null,
      "id": "2c260c75",
      "metadata": {
        "id": "2c260c75",
        "outputId": "8a84af4c-5961-4176-d0da-5c956899c947"
      },
      "outputs": [
        {
          "data": {
            "text/plain": [
              "array([ 5,  8, 11, 14, 17])"
            ]
          },
          "execution_count": 26,
          "metadata": {},
          "output_type": "execute_result"
        }
      ],
      "source": [
        "a = np.array([1, 2, 3, 4, 5])\n",
        "\n",
        "b = a * 3 + 2\n",
        "b"
      ]
    },
    {
      "cell_type": "markdown",
      "id": "30157db3",
      "metadata": {
        "id": "30157db3"
      },
      "source": [
        "#### Aqui, b é uma combinação linear de a"
      ]
    },
    {
      "cell_type": "code",
      "execution_count": null,
      "id": "fdd96e63",
      "metadata": {
        "id": "fdd96e63"
      },
      "outputs": [],
      "source": []
    },
    {
      "cell_type": "code",
      "execution_count": null,
      "id": "4ed93ba8",
      "metadata": {
        "id": "4ed93ba8",
        "outputId": "313c21ac-afc3-4641-d2e0-9b38e85488e7"
      },
      "outputs": [
        {
          "data": {
            "text/plain": [
              "SpearmanrResult(correlation=0.9999999999999999, pvalue=1.4042654220543672e-24)"
            ]
          },
          "execution_count": 27,
          "metadata": {},
          "output_type": "execute_result"
        }
      ],
      "source": [
        "spearmanr(a, b)"
      ]
    },
    {
      "cell_type": "code",
      "execution_count": null,
      "id": "9ca1a690",
      "metadata": {
        "id": "9ca1a690"
      },
      "outputs": [],
      "source": []
    },
    {
      "cell_type": "markdown",
      "id": "7468a177",
      "metadata": {
        "id": "7468a177"
      },
      "source": [
        "#### Agora, com uma relação não linear entre a e b"
      ]
    },
    {
      "cell_type": "code",
      "execution_count": null,
      "id": "77eb3864",
      "metadata": {
        "id": "77eb3864",
        "outputId": "e0a60293-049b-44de-94c5-9308520d83c7"
      },
      "outputs": [
        {
          "data": {
            "text/plain": [
              "array([  3,  10,  29,  66, 127])"
            ]
          },
          "execution_count": 28,
          "metadata": {},
          "output_type": "execute_result"
        }
      ],
      "source": [
        "a = np.array([1, 2, 3, 4, 5])\n",
        "\n",
        "b = a ** 3 + 2\n",
        "b"
      ]
    },
    {
      "cell_type": "code",
      "execution_count": null,
      "id": "085be310",
      "metadata": {
        "id": "085be310"
      },
      "outputs": [],
      "source": []
    },
    {
      "cell_type": "code",
      "execution_count": null,
      "id": "f0f43790",
      "metadata": {
        "id": "f0f43790",
        "outputId": "8fb35e77-9683-4a82-b04c-58e6f0c3e7c2"
      },
      "outputs": [
        {
          "data": {
            "text/plain": [
              "SpearmanrResult(correlation=0.9999999999999999, pvalue=1.4042654220543672e-24)"
            ]
          },
          "execution_count": 29,
          "metadata": {},
          "output_type": "execute_result"
        }
      ],
      "source": [
        "spearmanr(a, b)"
      ]
    },
    {
      "cell_type": "code",
      "execution_count": null,
      "id": "f7e15ecb",
      "metadata": {
        "id": "f7e15ecb"
      },
      "outputs": [],
      "source": []
    },
    {
      "cell_type": "markdown",
      "id": "b21c8c7d",
      "metadata": {
        "id": "b21c8c7d"
      },
      "source": [
        "#### Mesmo que a relação entre a e b não seja linear, a correlação foi 1! "
      ]
    },
    {
      "cell_type": "markdown",
      "id": "9c5c2da9",
      "metadata": {
        "id": "9c5c2da9"
      },
      "source": [
        "<br>"
      ]
    },
    {
      "cell_type": "code",
      "execution_count": null,
      "id": "3be121f5",
      "metadata": {
        "id": "3be121f5"
      },
      "outputs": [],
      "source": []
    },
    {
      "cell_type": "markdown",
      "id": "b96eeac1",
      "metadata": {
        "id": "b96eeac1"
      },
      "source": [
        "### Mesmo que a correlação de Pearson não seja alta, a de Spearman pode ser\n",
        "\n",
        "![alt_text](https://upload.wikimedia.org/wikipedia/commons/thumb/4/4e/Spearman_fig1.svg/300px-Spearman_fig1.svg.png)"
      ]
    },
    {
      "cell_type": "code",
      "execution_count": null,
      "id": "7927fb85",
      "metadata": {
        "id": "7927fb85"
      },
      "outputs": [],
      "source": []
    },
    {
      "cell_type": "markdown",
      "id": "e0d14f40",
      "metadata": {
        "id": "e0d14f40"
      },
      "source": [
        "### O cálculo da correlação de spearman no pandas é bem simples"
      ]
    },
    {
      "cell_type": "code",
      "execution_count": null,
      "id": "11540894",
      "metadata": {
        "id": "11540894",
        "outputId": "0470a95f-ef6f-4f03-fbc7-6643c13d677e"
      },
      "outputs": [
        {
          "data": {
            "text/html": [
              "<div>\n",
              "<style scoped>\n",
              "    .dataframe tbody tr th:only-of-type {\n",
              "        vertical-align: middle;\n",
              "    }\n",
              "\n",
              "    .dataframe tbody tr th {\n",
              "        vertical-align: top;\n",
              "    }\n",
              "\n",
              "    .dataframe thead th {\n",
              "        text-align: right;\n",
              "    }\n",
              "</style>\n",
              "<table border=\"1\" class=\"dataframe\">\n",
              "  <thead>\n",
              "    <tr style=\"text-align: right;\">\n",
              "      <th></th>\n",
              "      <th>local_price</th>\n",
              "      <th>dollar_ex</th>\n",
              "      <th>dollar_price</th>\n",
              "    </tr>\n",
              "  </thead>\n",
              "  <tbody>\n",
              "    <tr>\n",
              "      <th>local_price</th>\n",
              "      <td>1.000000</td>\n",
              "      <td>0.958868</td>\n",
              "      <td>-0.073513</td>\n",
              "    </tr>\n",
              "    <tr>\n",
              "      <th>dollar_ex</th>\n",
              "      <td>0.958868</td>\n",
              "      <td>1.000000</td>\n",
              "      <td>-0.313316</td>\n",
              "    </tr>\n",
              "    <tr>\n",
              "      <th>dollar_price</th>\n",
              "      <td>-0.073513</td>\n",
              "      <td>-0.313316</td>\n",
              "      <td>1.000000</td>\n",
              "    </tr>\n",
              "  </tbody>\n",
              "</table>\n",
              "</div>"
            ],
            "text/plain": [
              "              local_price  dollar_ex  dollar_price\n",
              "local_price      1.000000   0.958868     -0.073513\n",
              "dollar_ex        0.958868   1.000000     -0.313316\n",
              "dollar_price    -0.073513  -0.313316      1.000000"
            ]
          },
          "execution_count": 30,
          "metadata": {},
          "output_type": "execute_result"
        }
      ],
      "source": [
        "df.corr(method = 'spearman')"
      ]
    },
    {
      "cell_type": "code",
      "execution_count": null,
      "id": "300a03cc",
      "metadata": {
        "id": "300a03cc"
      },
      "outputs": [],
      "source": []
    },
    {
      "cell_type": "code",
      "execution_count": null,
      "id": "385b69f5",
      "metadata": {
        "id": "385b69f5"
      },
      "outputs": [],
      "source": []
    },
    {
      "cell_type": "markdown",
      "id": "11c6c6b5",
      "metadata": {
        "id": "11c6c6b5"
      },
      "source": [
        "### Em geral, usamos a correlação de Spearman quando:\n",
        "\n",
        "* a relação entre as variáveis pode ser não linear\n",
        "* uma das variáveis é um ranking \n",
        "* quando existem muitos valores extremos nos dados, causando uma variância muito grande"
      ]
    }
  ],
  "metadata": {
    "kernelspec": {
      "display_name": "Python 3 (ipykernel)",
      "language": "python",
      "name": "python3"
    },
    "language_info": {
      "codemirror_mode": {
        "name": "ipython",
        "version": 3
      },
      "file_extension": ".py",
      "mimetype": "text/x-python",
      "name": "python",
      "nbconvert_exporter": "python",
      "pygments_lexer": "ipython3",
      "version": "3.8.9"
    },
    "colab": {
      "provenance": [],
      "include_colab_link": true
    }
  },
  "nbformat": 4,
  "nbformat_minor": 5
}