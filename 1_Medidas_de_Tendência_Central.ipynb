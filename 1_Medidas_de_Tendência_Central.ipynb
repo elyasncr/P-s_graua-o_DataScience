{
  "cells": [
    {
      "cell_type": "markdown",
      "metadata": {
        "id": "view-in-github",
        "colab_type": "text"
      },
      "source": [
        "<a href=\"https://colab.research.google.com/github/elyasncr/Pos_graduacao_DataScience/blob/main/1_Medidas_de_Tend%C3%AAncia_Central.ipynb\" target=\"_parent\"><img src=\"https://colab.research.google.com/assets/colab-badge.svg\" alt=\"Open In Colab\"/></a>"
      ]
    },
    {
      "cell_type": "markdown",
      "id": "0206d46b",
      "metadata": {
        "id": "0206d46b"
      },
      "source": [
        "## A tendência central é uma medida de valores numa amostra que identifica os diferentes pontos centrais nos dados.\n",
        "<br>\n",
        "\n",
        "![alt text](data:image/png;base64,iVBORw0KGgoAAAANSUhEUgAAASsAAACoCAMAAACPKThEAAAApVBMVEXf0IAAtcEAAADk15b/AADf0YDgynzl1oQAn6rn14TRw3jczX7n14UJqrazp2epnF5+dkgAu8e6rGnKvHNMRyyil115cUZYSSWEd0U7KguXilIQAAAAg44AYWwAkp0ATVgAFCQANkIsKRlDPibv34kwLRzCtW9mXztMSCzviVXd2YXgyXwAe4WZhlDp0oEXAACql1u7p2YAVF4AQk0AjJYALDkACh7BL9h4AAACl0lEQVR4nO3cW1PaUBSGYdgthi1BBaR4VuRQW6092f7/n9ZMZ3qRtfea+QALCO9zySxXklcIF2ZsNAAAAAAAAAAAAAAAAAAAAAAAAAAAAN6a1mGqs+mT2lKdkDpqbfqstlMnDDp1Ba0cnXBoykRaOapW5pU1t3pDv5dNt2oN5gl7Rtti063iafrdclKs7/iL2Hyr42msmZ7QKi+eDk2Z4gOt8v5TqzImVr+o3WxVTmb31upXtZutYhge1fVnxytv3dVWg6JVEye0craGubmGklbeVlrpW2mlb6WVvpVW+lZa6VtppW+llb6VVvpWWulbaaVvpZW+lVb6VlrpW2mlb6WVvnXvWxUp50z3vlUxvEjYJP+27nureD+bGOHCGaVVP5Y104+08lrZEyt3sVXLVVStzCtVq+xo1cr+IatqlR+tWqV/8/LPQvL3WTV7HHtKtR94ZeXDCu+rwntflcn7qpjY4yxu0ef6lonV+vR+L31eolWj8XjgeR49dY3rs+f86PmLHb394mz9emMmm+Nvzmho29G77/nRx2CP3wxz98oODpb7EPqf6WJ01WvW9K7PnJvQ+Y0dvfXuV5dtOzp27lcxdJtm9K6fH+2Enh0NA//SXv1+FUdX9vhVq/xotlV+9LJtt46d78Fsq/xl5lstd93LoJWOVjpa6Wilo5WOVjpa6Wilo5WOVjpa6Wilo5WOVjpa6Wilo5WOVjpa6Wilo5WOVjpa6Wilo5WOVrqYfZ4hP7pQq8zzDPnR0LWj29vqqW38cFtd2dGfbqsXO/rLbXVjJru/3VZ2aXe9rR7k/+kUZ+mo+wxkym2Vclul1tkq99C69wCe/nz7+kYXu1gAAAAAAAAAAAAAAAAAAAAAAAAAAN6cd1D9AaD2oI3Hqj6sAAAAAElFTkSuQmCC)"
      ]
    },
    {
      "cell_type": "markdown",
      "id": "424f9ad7",
      "metadata": {
        "id": "424f9ad7"
      },
      "source": [
        "### As medidas mais comuns de tendência central são a média, a mediana e a moda."
      ]
    },
    {
      "cell_type": "markdown",
      "id": "a225eb91",
      "metadata": {
        "id": "a225eb91"
      },
      "source": [
        "<br>\n",
        "<br>\n",
        "<br>"
      ]
    },
    {
      "cell_type": "markdown",
      "id": "9cff6ade",
      "metadata": {
        "id": "9cff6ade"
      },
      "source": [
        "### Vamos usar dados abertos do preço do Big Mac, desde 2000 a 2022, para diversos países. Os dados podem ser encontrados no Kaggle.\n",
        "\n",
        "<br>\n",
        "\n",
        "https://www.kaggle.com/datasets/vittoriogiatti/bigmacprice"
      ]
    },
    {
      "cell_type": "markdown",
      "id": "d02f0f0f",
      "metadata": {
        "id": "d02f0f0f"
      },
      "source": [
        "#### Importando a biblioteca pandas (https://pandas.pydata.org)"
      ]
    },
    {
      "cell_type": "code",
      "execution_count": null,
      "id": "dd3dbedf",
      "metadata": {
        "id": "dd3dbedf"
      },
      "outputs": [],
      "source": [
        "import pandas"
      ]
    },
    {
      "cell_type": "markdown",
      "id": "f1fd389c",
      "metadata": {
        "id": "f1fd389c"
      },
      "source": [
        "#### Lendo os dados, que estão em csv"
      ]
    },
    {
      "cell_type": "code",
      "execution_count": null,
      "id": "24077779",
      "metadata": {
        "id": "24077779"
      },
      "outputs": [],
      "source": [
        "df = pandas.read_csv('BigmacPrice.csv')"
      ]
    },
    {
      "cell_type": "code",
      "execution_count": null,
      "id": "2ddf6217",
      "metadata": {
        "id": "2ddf6217",
        "outputId": "6cc32ea4-1bf6-4f71-9002-b70a612390ae"
      },
      "outputs": [
        {
          "data": {
            "text/html": [
              "<div>\n",
              "<style scoped>\n",
              "    .dataframe tbody tr th:only-of-type {\n",
              "        vertical-align: middle;\n",
              "    }\n",
              "\n",
              "    .dataframe tbody tr th {\n",
              "        vertical-align: top;\n",
              "    }\n",
              "\n",
              "    .dataframe thead th {\n",
              "        text-align: right;\n",
              "    }\n",
              "</style>\n",
              "<table border=\"1\" class=\"dataframe\">\n",
              "  <thead>\n",
              "    <tr style=\"text-align: right;\">\n",
              "      <th></th>\n",
              "      <th>date</th>\n",
              "      <th>currency_code</th>\n",
              "      <th>name</th>\n",
              "      <th>local_price</th>\n",
              "      <th>dollar_ex</th>\n",
              "      <th>dollar_price</th>\n",
              "    </tr>\n",
              "  </thead>\n",
              "  <tbody>\n",
              "    <tr>\n",
              "      <th>0</th>\n",
              "      <td>2000-04-01</td>\n",
              "      <td>ARS</td>\n",
              "      <td>Argentina</td>\n",
              "      <td>2.50</td>\n",
              "      <td>1</td>\n",
              "      <td>2.50</td>\n",
              "    </tr>\n",
              "    <tr>\n",
              "      <th>1</th>\n",
              "      <td>2000-04-01</td>\n",
              "      <td>AUD</td>\n",
              "      <td>Australia</td>\n",
              "      <td>2.59</td>\n",
              "      <td>1</td>\n",
              "      <td>2.59</td>\n",
              "    </tr>\n",
              "    <tr>\n",
              "      <th>2</th>\n",
              "      <td>2000-04-01</td>\n",
              "      <td>BRL</td>\n",
              "      <td>Brazil</td>\n",
              "      <td>2.95</td>\n",
              "      <td>1</td>\n",
              "      <td>2.95</td>\n",
              "    </tr>\n",
              "    <tr>\n",
              "      <th>3</th>\n",
              "      <td>2000-04-01</td>\n",
              "      <td>GBP</td>\n",
              "      <td>Britain</td>\n",
              "      <td>1.90</td>\n",
              "      <td>1</td>\n",
              "      <td>1.90</td>\n",
              "    </tr>\n",
              "    <tr>\n",
              "      <th>4</th>\n",
              "      <td>2000-04-01</td>\n",
              "      <td>CAD</td>\n",
              "      <td>Canada</td>\n",
              "      <td>2.85</td>\n",
              "      <td>1</td>\n",
              "      <td>2.85</td>\n",
              "    </tr>\n",
              "  </tbody>\n",
              "</table>\n",
              "</div>"
            ],
            "text/plain": [
              "         date currency_code       name  local_price  dollar_ex  dollar_price\n",
              "0  2000-04-01           ARS  Argentina         2.50          1          2.50\n",
              "1  2000-04-01           AUD  Australia         2.59          1          2.59\n",
              "2  2000-04-01           BRL     Brazil         2.95          1          2.95\n",
              "3  2000-04-01           GBP    Britain         1.90          1          1.90\n",
              "4  2000-04-01           CAD     Canada         2.85          1          2.85"
            ]
          },
          "execution_count": 4,
          "metadata": {},
          "output_type": "execute_result"
        }
      ],
      "source": [
        "df.head()"
      ]
    },
    {
      "cell_type": "code",
      "execution_count": null,
      "id": "8a2ab5ab",
      "metadata": {
        "id": "8a2ab5ab"
      },
      "outputs": [],
      "source": []
    },
    {
      "cell_type": "markdown",
      "id": "ee646e46",
      "metadata": {
        "id": "ee646e46"
      },
      "source": [
        "### Descrição das colunas\n",
        "\n",
        "* **`date`** - Data do registro\n",
        "* **`currency_code`** - Código ISO 4217 internacional da moeda do país\n",
        "* **`name`** - Nome do país\n",
        "* **`local_price`** - Preço do Big Mac na moeda local\n",
        "* **`dollar_ex`** - Taxa de Conversão do dólar americano para a moeda local\n",
        "* **`local_price`** - Preço do Big Mac em dólares americanos\n"
      ]
    },
    {
      "cell_type": "code",
      "execution_count": null,
      "id": "bbeff5c0",
      "metadata": {
        "id": "bbeff5c0"
      },
      "outputs": [],
      "source": []
    },
    {
      "cell_type": "markdown",
      "id": "cd678f2a",
      "metadata": {
        "id": "cd678f2a"
      },
      "source": [
        "#### Vamos olhar os tipos dos dados"
      ]
    },
    {
      "cell_type": "code",
      "execution_count": null,
      "id": "6136183d",
      "metadata": {
        "id": "6136183d",
        "outputId": "d3079711-adbf-4705-c8e2-88b23d070739"
      },
      "outputs": [
        {
          "data": {
            "text/plain": [
              "date              object\n",
              "currency_code     object\n",
              "name              object\n",
              "local_price      float64\n",
              "dollar_ex          int64\n",
              "dollar_price     float64\n",
              "dtype: object"
            ]
          },
          "execution_count": 8,
          "metadata": {},
          "output_type": "execute_result"
        }
      ],
      "source": [
        "df.dtypes"
      ]
    },
    {
      "cell_type": "markdown",
      "id": "0040165c",
      "metadata": {
        "id": "0040165c"
      },
      "source": [
        "### Vamos filtrar os dados somente do mês de Julho de 2022"
      ]
    },
    {
      "cell_type": "code",
      "execution_count": null,
      "id": "d00958c0",
      "metadata": {
        "id": "d00958c0"
      },
      "outputs": [],
      "source": [
        "df_filtered = df[df['date'] == '2022-07-01']"
      ]
    },
    {
      "cell_type": "code",
      "execution_count": null,
      "id": "ff931e5a",
      "metadata": {
        "id": "ff931e5a",
        "outputId": "354fe9a8-aada-4141-fb6d-052bc405991b"
      },
      "outputs": [
        {
          "data": {
            "text/html": [
              "<div>\n",
              "<style scoped>\n",
              "    .dataframe tbody tr th:only-of-type {\n",
              "        vertical-align: middle;\n",
              "    }\n",
              "\n",
              "    .dataframe tbody tr th {\n",
              "        vertical-align: top;\n",
              "    }\n",
              "\n",
              "    .dataframe thead th {\n",
              "        text-align: right;\n",
              "    }\n",
              "</style>\n",
              "<table border=\"1\" class=\"dataframe\">\n",
              "  <thead>\n",
              "    <tr style=\"text-align: right;\">\n",
              "      <th></th>\n",
              "      <th>date</th>\n",
              "      <th>currency_code</th>\n",
              "      <th>name</th>\n",
              "      <th>local_price</th>\n",
              "      <th>dollar_ex</th>\n",
              "      <th>dollar_price</th>\n",
              "    </tr>\n",
              "  </thead>\n",
              "  <tbody>\n",
              "    <tr>\n",
              "      <th>1876</th>\n",
              "      <td>2022-07-01</td>\n",
              "      <td>ARS</td>\n",
              "      <td>Argentina</td>\n",
              "      <td>590.00</td>\n",
              "      <td>129</td>\n",
              "      <td>4.57</td>\n",
              "    </tr>\n",
              "    <tr>\n",
              "      <th>1877</th>\n",
              "      <td>2022-07-01</td>\n",
              "      <td>AUD</td>\n",
              "      <td>Australia</td>\n",
              "      <td>6.70</td>\n",
              "      <td>1</td>\n",
              "      <td>6.70</td>\n",
              "    </tr>\n",
              "    <tr>\n",
              "      <th>1878</th>\n",
              "      <td>2022-07-01</td>\n",
              "      <td>EUR</td>\n",
              "      <td>Austria</td>\n",
              "      <td>4.35</td>\n",
              "      <td>1</td>\n",
              "      <td>4.35</td>\n",
              "    </tr>\n",
              "    <tr>\n",
              "      <th>1879</th>\n",
              "      <td>2022-07-01</td>\n",
              "      <td>AZN</td>\n",
              "      <td>Azerbaijan</td>\n",
              "      <td>4.70</td>\n",
              "      <td>1</td>\n",
              "      <td>4.70</td>\n",
              "    </tr>\n",
              "    <tr>\n",
              "      <th>1880</th>\n",
              "      <td>2022-07-01</td>\n",
              "      <td>BHD</td>\n",
              "      <td>Bahrain</td>\n",
              "      <td>1.60</td>\n",
              "      <td>1</td>\n",
              "      <td>1.60</td>\n",
              "    </tr>\n",
              "  </tbody>\n",
              "</table>\n",
              "</div>"
            ],
            "text/plain": [
              "            date currency_code        name  local_price  dollar_ex  \\\n",
              "1876  2022-07-01           ARS   Argentina       590.00        129   \n",
              "1877  2022-07-01           AUD   Australia         6.70          1   \n",
              "1878  2022-07-01           EUR     Austria         4.35          1   \n",
              "1879  2022-07-01           AZN  Azerbaijan         4.70          1   \n",
              "1880  2022-07-01           BHD     Bahrain         1.60          1   \n",
              "\n",
              "      dollar_price  \n",
              "1876          4.57  \n",
              "1877          6.70  \n",
              "1878          4.35  \n",
              "1879          4.70  \n",
              "1880          1.60  "
            ]
          },
          "execution_count": 10,
          "metadata": {},
          "output_type": "execute_result"
        }
      ],
      "source": [
        "df_filtered.head()"
      ]
    },
    {
      "cell_type": "code",
      "execution_count": null,
      "id": "1535e70f",
      "metadata": {
        "id": "1535e70f",
        "outputId": "7ef00baf-21b1-4859-f347-b38447a2de43"
      },
      "outputs": [
        {
          "data": {
            "text/plain": [
              "date             70\n",
              "currency_code    70\n",
              "name             70\n",
              "local_price      70\n",
              "dollar_ex        70\n",
              "dollar_price     70\n",
              "dtype: int64"
            ]
          },
          "execution_count": 12,
          "metadata": {},
          "output_type": "execute_result"
        }
      ],
      "source": [
        "df_filtered.count()"
      ]
    },
    {
      "cell_type": "markdown",
      "id": "c81a9438",
      "metadata": {
        "id": "c81a9438"
      },
      "source": [
        "#### Quantos países únicos nós temos?"
      ]
    },
    {
      "cell_type": "code",
      "execution_count": null,
      "id": "84fdb8a2",
      "metadata": {
        "id": "84fdb8a2",
        "outputId": "8d341085-31f0-4ab0-b043-2d013cc65818"
      },
      "outputs": [
        {
          "data": {
            "text/plain": [
              "name\n",
              "Argentina               1\n",
              "Australia               1\n",
              "Austria                 1\n",
              "Azerbaijan              1\n",
              "Bahrain                 1\n",
              "                       ..\n",
              "United Arab Emirates    1\n",
              "United States           1\n",
              "Uruguay                 1\n",
              "Venezuela               1\n",
              "Vietnam                 1\n",
              "Name: date, Length: 70, dtype: int64"
            ]
          },
          "execution_count": 14,
          "metadata": {},
          "output_type": "execute_result"
        }
      ],
      "source": [
        "df_filtered.groupby('name').count()['date']"
      ]
    },
    {
      "cell_type": "code",
      "execution_count": null,
      "id": "bdf38ee8",
      "metadata": {
        "id": "bdf38ee8"
      },
      "outputs": [],
      "source": []
    },
    {
      "cell_type": "markdown",
      "id": "17248e9a",
      "metadata": {
        "id": "17248e9a"
      },
      "source": [
        "### Temos 1 linha por país! Dessa forma, vamos calcular as medidas de tendência central. Salvaremos também os dados de Julho/2022 pois os reutilizaremos mais para frente."
      ]
    },
    {
      "cell_type": "code",
      "execution_count": null,
      "id": "618cad5a",
      "metadata": {
        "id": "618cad5a"
      },
      "outputs": [],
      "source": [
        "df_filtered.to_csv('BigmacPriceJuly2022.csv', index = False)"
      ]
    },
    {
      "cell_type": "code",
      "execution_count": null,
      "id": "e457618c",
      "metadata": {
        "id": "e457618c"
      },
      "outputs": [],
      "source": []
    },
    {
      "cell_type": "code",
      "execution_count": null,
      "id": "85bcc349",
      "metadata": {
        "id": "85bcc349"
      },
      "outputs": [],
      "source": []
    },
    {
      "cell_type": "markdown",
      "id": "4e32c76d",
      "metadata": {
        "id": "4e32c76d"
      },
      "source": [
        "---------"
      ]
    },
    {
      "cell_type": "markdown",
      "id": "50371197",
      "metadata": {
        "id": "50371197"
      },
      "source": [
        "`Moda`"
      ]
    },
    {
      "cell_type": "markdown",
      "id": "6c75da7b",
      "metadata": {
        "id": "6c75da7b"
      },
      "source": [
        "\n",
        "## Já bastante conhecida,  a `Moda` é uma medida estatística de tendência central, que interessa sempre que estivermos em busca dos valores mais comuns de um dado.\n",
        "\n",
        "É o valor dos dados que ocorre com a maior frequência, ou seja, o valor que mais se repete dentro de uma série de observações. \n",
        "\n",
        "![alt text](https://blog.professorferretto.com.br/wp-content/uploads/2017/11/moda.png)"
      ]
    },
    {
      "cell_type": "code",
      "execution_count": null,
      "id": "5266c188",
      "metadata": {
        "id": "5266c188"
      },
      "outputs": [],
      "source": []
    },
    {
      "cell_type": "code",
      "execution_count": null,
      "id": "a0ba5c26",
      "metadata": {
        "id": "a0ba5c26"
      },
      "outputs": [],
      "source": [
        "df = pandas.read_csv('BigmacPriceJuly2022.csv')"
      ]
    },
    {
      "cell_type": "code",
      "execution_count": null,
      "id": "b6550634",
      "metadata": {
        "id": "b6550634"
      },
      "outputs": [],
      "source": []
    },
    {
      "cell_type": "markdown",
      "id": "c541ef0b",
      "metadata": {
        "id": "c541ef0b"
      },
      "source": [
        "## O pandas tem uma função para a moda, tornando bem simples o seu cálculo!"
      ]
    },
    {
      "cell_type": "markdown",
      "id": "eb891f64",
      "metadata": {
        "id": "eb891f64"
      },
      "source": [
        "### Vamos calcular a moda do preço do Big Mac em dólares americanos"
      ]
    },
    {
      "cell_type": "code",
      "execution_count": null,
      "id": "82504e0b",
      "metadata": {
        "id": "82504e0b",
        "outputId": "bf8e9501-ff11-4484-a0ea-58c0afa5521b"
      },
      "outputs": [
        {
          "data": {
            "text/plain": [
              "0    4.00\n",
              "1    4.58\n",
              "Name: dollar_price, dtype: float64"
            ]
          },
          "execution_count": 17,
          "metadata": {},
          "output_type": "execute_result"
        }
      ],
      "source": [
        "df['dollar_price'].mode()"
      ]
    },
    {
      "cell_type": "markdown",
      "id": "0bc48ad4",
      "metadata": {
        "id": "0bc48ad4"
      },
      "source": [
        "Repare que o resultado é uma série do Pandas!"
      ]
    },
    {
      "cell_type": "code",
      "execution_count": null,
      "id": "be2d76dc",
      "metadata": {
        "id": "be2d76dc"
      },
      "outputs": [],
      "source": []
    },
    {
      "cell_type": "markdown",
      "id": "3b679006",
      "metadata": {
        "id": "3b679006"
      },
      "source": [
        "### Vamos ver quantas vezes esses valores ocorreram"
      ]
    },
    {
      "cell_type": "code",
      "execution_count": null,
      "id": "c9e1169a",
      "metadata": {
        "id": "c9e1169a",
        "outputId": "adddf225-97eb-4200-b8e7-352be8654da4"
      },
      "outputs": [
        {
          "data": {
            "text/plain": [
              "4.58    3\n",
              "4.00    3\n",
              "3.50    2\n",
              "5.67    2\n",
              "3.71    2\n",
              "       ..\n",
              "2.85    1\n",
              "2.30    1\n",
              "1.30    1\n",
              "6.70    1\n",
              "2.95    1\n",
              "Name: dollar_price, Length: 61, dtype: int64"
            ]
          },
          "execution_count": 18,
          "metadata": {},
          "output_type": "execute_result"
        }
      ],
      "source": [
        "df['dollar_price'].value_counts()"
      ]
    },
    {
      "cell_type": "code",
      "execution_count": null,
      "id": "95f615ec",
      "metadata": {
        "id": "95f615ec"
      },
      "outputs": [],
      "source": []
    },
    {
      "cell_type": "code",
      "execution_count": null,
      "id": "453f65a5",
      "metadata": {
        "id": "453f65a5"
      },
      "outputs": [],
      "source": []
    },
    {
      "cell_type": "markdown",
      "id": "71a83137",
      "metadata": {
        "id": "71a83137"
      },
      "source": [
        "### Podemos ter mais de um valor para a moda!!"
      ]
    },
    {
      "cell_type": "code",
      "execution_count": null,
      "id": "60a1b4e1",
      "metadata": {
        "id": "60a1b4e1"
      },
      "outputs": [],
      "source": []
    },
    {
      "cell_type": "code",
      "execution_count": null,
      "id": "016c5964",
      "metadata": {
        "id": "016c5964"
      },
      "outputs": [],
      "source": []
    },
    {
      "cell_type": "code",
      "execution_count": null,
      "id": "624beadc",
      "metadata": {
        "id": "624beadc"
      },
      "outputs": [],
      "source": []
    },
    {
      "cell_type": "code",
      "execution_count": null,
      "id": "0f98b91b",
      "metadata": {
        "id": "0f98b91b"
      },
      "outputs": [],
      "source": []
    },
    {
      "cell_type": "code",
      "execution_count": null,
      "id": "d7cac5fd",
      "metadata": {
        "id": "d7cac5fd"
      },
      "outputs": [],
      "source": []
    },
    {
      "cell_type": "markdown",
      "id": "0d326b17",
      "metadata": {
        "id": "0d326b17"
      },
      "source": [
        "--- "
      ]
    },
    {
      "cell_type": "markdown",
      "id": "0c68e660",
      "metadata": {
        "id": "0c68e660"
      },
      "source": [
        "`Média`"
      ]
    },
    {
      "cell_type": "markdown",
      "id": "3b6f03da",
      "metadata": {
        "id": "3b6f03da"
      },
      "source": [
        "## A famosa média!! Ela é bastante relevante por ser muito fácil de ser calculada, além de ser muito popular.\n",
        "\n",
        "![alt text](https://us.123rf.com/450wm/jameschipper/jameschipper1704/jameschipper170400133/76165125-credit-score-gauge.jpg?ver=6)\n",
        "\n",
        "\n",
        "## Calculamos a média simplesmente somando todos os valores e dividindo pelo tamanho da amostra.\n",
        "\n",
        "![alt text](https://cdn.educba.com/academy/wp-content/uploads/2019/03/Average-Formula.jpg)\n",
        "\n",
        "\n",
        "A média é uma importante medida que busca expressar a tendência central dos dados de interesse. "
      ]
    },
    {
      "cell_type": "markdown",
      "id": "d63291b7",
      "metadata": {
        "id": "d63291b7"
      },
      "source": [
        "### É muito simples calcular a média com pandas"
      ]
    },
    {
      "cell_type": "markdown",
      "id": "a636c48f",
      "metadata": {
        "id": "a636c48f"
      },
      "source": [
        "#### Vamos calcular a média do preço do Big Mac em dólares americanos"
      ]
    },
    {
      "cell_type": "code",
      "execution_count": null,
      "id": "024b4f04",
      "metadata": {
        "id": "024b4f04",
        "outputId": "c0262bb7-8907-4702-f712-72f2529dd949"
      },
      "outputs": [
        {
          "data": {
            "text/plain": [
              "4.003571428571429"
            ]
          },
          "execution_count": 20,
          "metadata": {},
          "output_type": "execute_result"
        }
      ],
      "source": [
        "df['dollar_price'].mean()"
      ]
    },
    {
      "cell_type": "code",
      "execution_count": null,
      "id": "24410eb9",
      "metadata": {
        "id": "24410eb9"
      },
      "outputs": [],
      "source": []
    },
    {
      "cell_type": "markdown",
      "id": "684af5fb",
      "metadata": {
        "id": "684af5fb"
      },
      "source": [
        "Esse é o valor médio do preço do Big Mac no mundo, em dólares!"
      ]
    },
    {
      "cell_type": "code",
      "execution_count": null,
      "id": "383a560a",
      "metadata": {
        "id": "383a560a"
      },
      "outputs": [],
      "source": []
    },
    {
      "cell_type": "markdown",
      "id": "cb9efb33",
      "metadata": {
        "id": "cb9efb33"
      },
      "source": [
        "## Apesar de ser muito popular e fácil de ser calculada, precisamos tomar cuidados especiais com a média. Isso porque ela é `facilmente` influenciada por valores extremos na nossa amostra!\n",
        "\n",
        "\n",
        "![alt text](https://images.nagwa.com/figures/explainers/845148137695/2.svg)"
      ]
    },
    {
      "cell_type": "code",
      "execution_count": null,
      "id": "96fa0a9f",
      "metadata": {
        "id": "96fa0a9f"
      },
      "outputs": [],
      "source": [
        "def media(lista):\n",
        "    return sum(lista)/len(lista)"
      ]
    },
    {
      "cell_type": "markdown",
      "id": "fa45933b",
      "metadata": {
        "id": "fa45933b"
      },
      "source": [
        "### Vamos calcular a média de algumas listas de alturas de pessoas e ver como a média se comporta em cada caso."
      ]
    },
    {
      "cell_type": "markdown",
      "id": "c74e714c",
      "metadata": {
        "id": "c74e714c"
      },
      "source": [
        "A primeira lista tem alturas bem próximas uma das outras"
      ]
    },
    {
      "cell_type": "code",
      "execution_count": null,
      "id": "51b03076",
      "metadata": {
        "id": "51b03076"
      },
      "outputs": [],
      "source": [
        "lista_alturas_1 = [1.67, 1.72, 1.70, 1.69, 1.74, 1.71]"
      ]
    },
    {
      "cell_type": "code",
      "execution_count": null,
      "id": "f7299e9f",
      "metadata": {
        "id": "f7299e9f",
        "outputId": "a044618c-d9f9-410a-8ea7-03772fa02288"
      },
      "outputs": [
        {
          "data": {
            "text/plain": [
              "1.705"
            ]
          },
          "execution_count": 25,
          "metadata": {},
          "output_type": "execute_result"
        }
      ],
      "source": [
        "media(lista_alturas_1)"
      ]
    },
    {
      "cell_type": "code",
      "execution_count": null,
      "id": "caa27270",
      "metadata": {
        "id": "caa27270"
      },
      "outputs": [],
      "source": []
    },
    {
      "cell_type": "markdown",
      "id": "6e07548f",
      "metadata": {
        "id": "6e07548f"
      },
      "source": [
        "A segunda lista tem alturas mais espaçadas uma das outras"
      ]
    },
    {
      "cell_type": "code",
      "execution_count": null,
      "id": "1661eea3",
      "metadata": {
        "id": "1661eea3"
      },
      "outputs": [],
      "source": [
        "lista_alturas_2 = [1.60, 1.66, 1.72, 1.69, 1.78, 1.77]"
      ]
    },
    {
      "cell_type": "code",
      "execution_count": null,
      "id": "07ffabbb",
      "metadata": {
        "id": "07ffabbb",
        "outputId": "c1bd9d42-387e-4296-bd65-34e5d49fa12d"
      },
      "outputs": [
        {
          "data": {
            "text/plain": [
              "1.7033333333333331"
            ]
          },
          "execution_count": 27,
          "metadata": {},
          "output_type": "execute_result"
        }
      ],
      "source": [
        "media(lista_alturas_2)"
      ]
    },
    {
      "cell_type": "code",
      "execution_count": null,
      "id": "37e3874f",
      "metadata": {
        "id": "37e3874f"
      },
      "outputs": [],
      "source": []
    },
    {
      "cell_type": "code",
      "execution_count": null,
      "id": "fdf042ff",
      "metadata": {
        "id": "fdf042ff"
      },
      "outputs": [],
      "source": []
    },
    {
      "cell_type": "markdown",
      "id": "89466db1",
      "metadata": {
        "id": "89466db1"
      },
      "source": [
        "A terceira lista tem uma altura bem menor do que as outras"
      ]
    },
    {
      "cell_type": "code",
      "execution_count": null,
      "id": "80808982",
      "metadata": {
        "id": "80808982"
      },
      "outputs": [],
      "source": [
        "lista_alturas_3 = [1.20, 1.72, 1.70, 1.69, 1.74, 1.71]"
      ]
    },
    {
      "cell_type": "code",
      "execution_count": null,
      "id": "68132fa5",
      "metadata": {
        "id": "68132fa5",
        "outputId": "a713d38c-ef38-4164-9d87-861e689811ff"
      },
      "outputs": [
        {
          "data": {
            "text/plain": [
              "1.626666666666667"
            ]
          },
          "execution_count": 36,
          "metadata": {},
          "output_type": "execute_result"
        }
      ],
      "source": [
        "media(lista_alturas_3)"
      ]
    },
    {
      "cell_type": "code",
      "execution_count": null,
      "id": "d6946c82",
      "metadata": {
        "id": "d6946c82"
      },
      "outputs": [],
      "source": []
    },
    {
      "cell_type": "markdown",
      "id": "c017ce84",
      "metadata": {
        "id": "c017ce84"
      },
      "source": [
        "Finalmente, a quarta lista tem uma altura bem maior do que as outras"
      ]
    },
    {
      "cell_type": "code",
      "execution_count": null,
      "id": "6d4143e9",
      "metadata": {
        "id": "6d4143e9"
      },
      "outputs": [],
      "source": [
        "lista_alturas_4 = [1.67, 1.72, 1.70, 1.69, 1.74, 2.24]"
      ]
    },
    {
      "cell_type": "code",
      "execution_count": null,
      "id": "3c19e82c",
      "metadata": {
        "id": "3c19e82c",
        "outputId": "da351f17-534d-4b93-c9bd-932f05d41b03"
      },
      "outputs": [
        {
          "data": {
            "text/plain": [
              "1.7933333333333332"
            ]
          },
          "execution_count": 39,
          "metadata": {},
          "output_type": "execute_result"
        }
      ],
      "source": [
        "media(lista_alturas_4)"
      ]
    },
    {
      "cell_type": "code",
      "execution_count": null,
      "id": "49b52bd7",
      "metadata": {
        "id": "49b52bd7"
      },
      "outputs": [],
      "source": []
    },
    {
      "cell_type": "code",
      "execution_count": null,
      "id": "ba4af5c5",
      "metadata": {
        "id": "ba4af5c5"
      },
      "outputs": [],
      "source": []
    },
    {
      "cell_type": "markdown",
      "id": "02a646dc",
      "metadata": {
        "id": "02a646dc"
      },
      "source": [
        "## Viu o que acontece com a média?"
      ]
    },
    {
      "cell_type": "code",
      "execution_count": null,
      "id": "b9cd1e09",
      "metadata": {
        "id": "b9cd1e09"
      },
      "outputs": [],
      "source": []
    },
    {
      "cell_type": "code",
      "execution_count": null,
      "id": "dff63c74",
      "metadata": {
        "id": "dff63c74"
      },
      "outputs": [],
      "source": []
    },
    {
      "cell_type": "code",
      "execution_count": null,
      "id": "6ac9aa74",
      "metadata": {
        "id": "6ac9aa74"
      },
      "outputs": [],
      "source": []
    },
    {
      "cell_type": "code",
      "execution_count": null,
      "id": "31902ff2",
      "metadata": {
        "id": "31902ff2"
      },
      "outputs": [],
      "source": []
    },
    {
      "cell_type": "markdown",
      "id": "6c32ce6e",
      "metadata": {
        "id": "6c32ce6e"
      },
      "source": [
        "---"
      ]
    },
    {
      "cell_type": "markdown",
      "id": "2433765e",
      "metadata": {
        "id": "2433765e"
      },
      "source": [
        "`Mediana`"
      ]
    },
    {
      "cell_type": "markdown",
      "id": "a86147d3",
      "metadata": {
        "id": "a86147d3"
      },
      "source": [
        "## A `mediana` é uma medida de tendência central muito interessante. Ela faz uma divisão exatamente no meio dos nossos dados. É o valor do meio do nosso conjunto de dados. \n",
        "\n",
        "\n",
        "![alt text](https://temasdeenfermeria.com.ar/wp-content/uploads/2012/06/mediana.jpg)\n",
        "\n",
        "\n",
        "### Para que a mediana seja calculada, primeiramente precisamos ordenar os dados para que então seja identificado o valor do meio. Por isso, a mediana é relativamente custosa de ser calculada, principalmente em cenários de big data.\n",
        "<br>\n",
        "\n",
        "![alt text](https://educa.ibge.gov.br/images/vamoscontar/recursos/mediana/mediana_animacao4.gif)"
      ]
    },
    {
      "cell_type": "markdown",
      "id": "5140caf0",
      "metadata": {
        "id": "5140caf0"
      },
      "source": [
        "### É bem fácil calcular a mediana com pandas"
      ]
    },
    {
      "cell_type": "code",
      "execution_count": null,
      "id": "79d20ea8",
      "metadata": {
        "id": "79d20ea8",
        "outputId": "372d660e-9783-4d11-a954-1465de639c0b"
      },
      "outputs": [
        {
          "data": {
            "text/plain": [
              "3.9050000000000002"
            ]
          },
          "execution_count": 41,
          "metadata": {},
          "output_type": "execute_result"
        }
      ],
      "source": [
        "df['dollar_price'].median()"
      ]
    },
    {
      "cell_type": "markdown",
      "id": "f059462e",
      "metadata": {
        "id": "f059462e"
      },
      "source": [
        "Essa é a mediana do preço do Big Mac no mundo, em dólares!"
      ]
    },
    {
      "cell_type": "code",
      "execution_count": null,
      "id": "0b9bc0ab",
      "metadata": {
        "id": "0b9bc0ab"
      },
      "outputs": [],
      "source": []
    },
    {
      "cell_type": "code",
      "execution_count": null,
      "id": "4cedfdfd",
      "metadata": {
        "id": "4cedfdfd"
      },
      "outputs": [],
      "source": []
    },
    {
      "cell_type": "markdown",
      "id": "fe356798",
      "metadata": {
        "id": "fe356798"
      },
      "source": [
        "### Ao contrário da média, a mediana não é facilmente influenciada por valores extremos!"
      ]
    },
    {
      "cell_type": "code",
      "execution_count": null,
      "id": "1b8a1be2",
      "metadata": {
        "id": "1b8a1be2"
      },
      "outputs": [],
      "source": [
        "import numpy as np"
      ]
    },
    {
      "cell_type": "markdown",
      "id": "6130750d",
      "metadata": {
        "id": "6130750d"
      },
      "source": [
        "Lista equilibrada"
      ]
    },
    {
      "cell_type": "code",
      "execution_count": null,
      "id": "a38ea229",
      "metadata": {
        "id": "a38ea229"
      },
      "outputs": [],
      "source": [
        "lista_alturas_1 = [1.67, 1.72, 1.70, 1.69, 1.74, 1.71]"
      ]
    },
    {
      "cell_type": "code",
      "execution_count": null,
      "id": "62f95ea1",
      "metadata": {
        "id": "62f95ea1",
        "outputId": "eed785dc-df03-4409-cd64-ed1bf3a41e6c"
      },
      "outputs": [
        {
          "data": {
            "text/plain": [
              "1.705"
            ]
          },
          "execution_count": 44,
          "metadata": {},
          "output_type": "execute_result"
        }
      ],
      "source": [
        "media(lista_alturas_1)"
      ]
    },
    {
      "cell_type": "code",
      "execution_count": null,
      "id": "6b8bfd5d",
      "metadata": {
        "id": "6b8bfd5d",
        "outputId": "e234ea22-ea7f-47ce-c21a-260a0565e6dd"
      },
      "outputs": [
        {
          "data": {
            "text/plain": [
              "1.705"
            ]
          },
          "execution_count": 46,
          "metadata": {},
          "output_type": "execute_result"
        }
      ],
      "source": [
        "np.median(lista_alturas_1)"
      ]
    },
    {
      "cell_type": "code",
      "execution_count": null,
      "id": "289b4dd4",
      "metadata": {
        "id": "289b4dd4"
      },
      "outputs": [],
      "source": []
    },
    {
      "cell_type": "code",
      "execution_count": null,
      "id": "e30588bd",
      "metadata": {
        "id": "e30588bd"
      },
      "outputs": [],
      "source": []
    },
    {
      "cell_type": "markdown",
      "id": "2245f6a0",
      "metadata": {
        "id": "2245f6a0"
      },
      "source": [
        "Lista mais espaçada"
      ]
    },
    {
      "cell_type": "code",
      "execution_count": null,
      "id": "7e2b564c",
      "metadata": {
        "id": "7e2b564c"
      },
      "outputs": [],
      "source": [
        "lista_alturas_2 = [1.60, 1.66, 1.72, 1.69, 1.78, 1.77]"
      ]
    },
    {
      "cell_type": "code",
      "execution_count": null,
      "id": "518b3d88",
      "metadata": {
        "id": "518b3d88",
        "outputId": "965f49b5-1602-415c-f901-b41dddba7499"
      },
      "outputs": [
        {
          "data": {
            "text/plain": [
              "1.7033333333333331"
            ]
          },
          "execution_count": 27,
          "metadata": {},
          "output_type": "execute_result"
        }
      ],
      "source": [
        "media(lista_alturas_2)"
      ]
    },
    {
      "cell_type": "code",
      "execution_count": null,
      "id": "118a9a99",
      "metadata": {
        "id": "118a9a99",
        "outputId": "94a56096-cc4d-4e2b-cb1e-78dd5e66d796"
      },
      "outputs": [
        {
          "data": {
            "text/plain": [
              "1.705"
            ]
          },
          "execution_count": 47,
          "metadata": {},
          "output_type": "execute_result"
        }
      ],
      "source": [
        "np.median(lista_alturas_2)"
      ]
    },
    {
      "cell_type": "code",
      "execution_count": null,
      "id": "e3ba755f",
      "metadata": {
        "id": "e3ba755f"
      },
      "outputs": [],
      "source": []
    },
    {
      "cell_type": "code",
      "execution_count": null,
      "id": "599ca1ec",
      "metadata": {
        "id": "599ca1ec"
      },
      "outputs": [],
      "source": []
    },
    {
      "cell_type": "markdown",
      "id": "c678bd3d",
      "metadata": {
        "id": "c678bd3d"
      },
      "source": [
        "Lista com uma altura bem menor do que as outras"
      ]
    },
    {
      "cell_type": "code",
      "execution_count": null,
      "id": "b1964473",
      "metadata": {
        "id": "b1964473"
      },
      "outputs": [],
      "source": [
        "lista_alturas_3 = [1.20, 1.72, 1.70, 1.69, 1.74, 1.71]"
      ]
    },
    {
      "cell_type": "code",
      "execution_count": null,
      "id": "dc5f58ce",
      "metadata": {
        "id": "dc5f58ce",
        "outputId": "1dfe5920-8400-46ff-fe3e-f7b2c4a0e062"
      },
      "outputs": [
        {
          "data": {
            "text/plain": [
              "1.626666666666667"
            ]
          },
          "execution_count": 36,
          "metadata": {},
          "output_type": "execute_result"
        }
      ],
      "source": [
        "media(lista_alturas_3)"
      ]
    },
    {
      "cell_type": "code",
      "execution_count": null,
      "id": "a27df608",
      "metadata": {
        "id": "a27df608",
        "outputId": "ff529604-554c-423c-a220-5768177b1e3d"
      },
      "outputs": [
        {
          "data": {
            "text/plain": [
              "1.705"
            ]
          },
          "execution_count": 48,
          "metadata": {},
          "output_type": "execute_result"
        }
      ],
      "source": [
        "np.median(lista_alturas_3)"
      ]
    },
    {
      "cell_type": "code",
      "execution_count": null,
      "id": "d0a5d42c",
      "metadata": {
        "id": "d0a5d42c"
      },
      "outputs": [],
      "source": []
    },
    {
      "cell_type": "code",
      "execution_count": null,
      "id": "fd618edc",
      "metadata": {
        "id": "fd618edc"
      },
      "outputs": [],
      "source": []
    },
    {
      "cell_type": "markdown",
      "id": "ea38d2b2",
      "metadata": {
        "id": "ea38d2b2"
      },
      "source": [
        "Lista com uma altura bem maior do que as outras"
      ]
    },
    {
      "cell_type": "code",
      "execution_count": null,
      "id": "8dccbca1",
      "metadata": {
        "id": "8dccbca1"
      },
      "outputs": [],
      "source": [
        "lista_alturas_4 = [1.67, 1.72, 1.70, 1.69, 1.74, 2.24]"
      ]
    },
    {
      "cell_type": "code",
      "execution_count": null,
      "id": "cf29ca4f",
      "metadata": {
        "id": "cf29ca4f",
        "outputId": "f3c1e1e2-ee92-4478-bc3b-3848c18db1e9"
      },
      "outputs": [
        {
          "data": {
            "text/plain": [
              "1.7933333333333332"
            ]
          },
          "execution_count": 39,
          "metadata": {},
          "output_type": "execute_result"
        }
      ],
      "source": [
        "media(lista_alturas_4)"
      ]
    },
    {
      "cell_type": "code",
      "execution_count": null,
      "id": "9a7af12c",
      "metadata": {
        "id": "9a7af12c",
        "outputId": "efa57dbf-f05b-41c4-90fd-0f7170193fa5"
      },
      "outputs": [
        {
          "data": {
            "text/plain": [
              "1.71"
            ]
          },
          "execution_count": 49,
          "metadata": {},
          "output_type": "execute_result"
        }
      ],
      "source": [
        "np.median(lista_alturas_4)"
      ]
    },
    {
      "cell_type": "code",
      "execution_count": null,
      "id": "515ebe09",
      "metadata": {
        "id": "515ebe09"
      },
      "outputs": [],
      "source": []
    },
    {
      "cell_type": "code",
      "execution_count": null,
      "id": "9645025d",
      "metadata": {
        "id": "9645025d"
      },
      "outputs": [],
      "source": []
    },
    {
      "cell_type": "markdown",
      "id": "0af1097c",
      "metadata": {
        "id": "0af1097c"
      },
      "source": [
        "## A mediana quase não se altera!"
      ]
    }
  ],
  "metadata": {
    "kernelspec": {
      "display_name": "Python 3 (ipykernel)",
      "language": "python",
      "name": "python3"
    },
    "language_info": {
      "codemirror_mode": {
        "name": "ipython",
        "version": 3
      },
      "file_extension": ".py",
      "mimetype": "text/x-python",
      "name": "python",
      "nbconvert_exporter": "python",
      "pygments_lexer": "ipython3",
      "version": "3.8.9"
    },
    "colab": {
      "provenance": [],
      "include_colab_link": true
    }
  },
  "nbformat": 4,
  "nbformat_minor": 5
}