{
  "nbformat": 4,
  "nbformat_minor": 0,
  "metadata": {
    "colab": {
      "provenance": [],
      "toc_visible": true,
      "mount_file_id": "16Rae5tclV0RurAE2VZXfaHXwj9JJzv3F",
      "authorship_tag": "ABX9TyNu+yTh/lXoRUMoH4Jh572v",
      "include_colab_link": true
    },
    "kernelspec": {
      "name": "python3",
      "display_name": "Python 3"
    },
    "language_info": {
      "name": "python"
    }
  },
  "cells": [
    {
      "cell_type": "markdown",
      "metadata": {
        "id": "view-in-github",
        "colab_type": "text"
      },
      "source": [
        "<a href=\"https://colab.research.google.com/github/elyasncr/Pos_graduacao_DataScience/blob/main/Introdu%C3%A7%C3%A3o_a_estat%C3%ADstica.ipynb\" target=\"_parent\"><img src=\"https://colab.research.google.com/assets/colab-badge.svg\" alt=\"Open In Colab\"/></a>"
      ]
    },
    {
      "cell_type": "markdown",
      "source": [
        "# 1 - O que é estatística?\n",
        "  definição: the science of using infromation discovered from collecting, organizing, and studying numbers.\n",
        "  "
      ],
      "metadata": {
        "id": "3RQ4jSdlYUj8"
      }
    },
    {
      "cell_type": "markdown",
      "source": [
        "# 2 - Estatísitca indutiva e dedutiva.\n",
        " \n",
        "  2.1 Estatísitca dedutiva: também é conhecida como Estatística Descritiva.\n",
        "  - Na dedução, partimos do geral para o particular.\n",
        "  - O objetvio é obter informações e insights sobre os dados que temos.\n",
        "  - na dedução a gente parte do caso geral, para um caso particular.\n",
        "  - sai de uma observação específica e parte para uma teoria geral.\n",
        "\n",
        "  2.2 Estatística indutiva: também é conhecida como estatística inferencial, ou inferência estatística.\n",
        "  - Na indução, partimos do particular para o geral.\n",
        "  - O objetivo é obter estimativas sobre comportamentos usando os dados que temos.\n",
        "  - sai de uma teoria geral para uma conclusão específica.\n",
        "\n",
        "\n"
      ],
      "metadata": {
        "id": "X1HConJ2clvl"
      }
    },
    {
      "cell_type": "markdown",
      "source": [
        "# 3 - Método estatístico e suas fases.\n",
        "\n",
        "  ## o que é?\n",
        "  - Processo para descomplicar a análise estatística dos dados.\n",
        "  - Na prática, é um passo a passo para simplificar a descoberta de soluções e insights.\n",
        "  - são 7 passos para te ajudar a descobrir os insights.\n",
        "\n",
        "  ### Passo 1: Definir o problema\n",
        "  - Entender o problema que você precisa resolver, ou qual pergunta você deve responder.\n",
        "  ### Passo 2: Planejamento\n",
        "  - Sentar com o cliente para definir os recursos utilizados, quais dados serão recolhidos e tratados.\n",
        "  ### Passo 3: Coleta de dados\n",
        "  - Entender como os dados são disponibilizados para você.\n",
        "  - Entender de onde os dados vieram, e como foram coletados.\n",
        "  ### Passo 4: Crítica dos dados\n",
        "  - Rever todos os resultados para entender se estão em boas qualidades.\n",
        "  - Entender se os dados tem qualidade e sentido.\n",
        "  ### Passo 5: Apuração dos dados\n",
        "  - Ver se os dados fazem sentido após a verificação da qualidade\n",
        "  - Quais perguntas podem surgir após apresentar os dados?\n",
        "  - Verificar a legibilidade dos dados para que sejam fáceis de entender.\n",
        "  ### Passo 6: Apresentação dos dados\n",
        "  - Quais formas são as melhores de apresentar esses dados?\n",
        "  - Observar o grau de atualização de dados, tomar cuidado com a repetição de dados não úteis.\n",
        "  - Qual ferramenta de apresentação será utilizada?\n",
        "  - Entender qual será o público alvo para a apresentação dos dados\n",
        "  ### Passo 7: Análise e interpretação dos dados\n",
        "  - Entender o que cada coisa da apresentação significa\n",
        "  - Não colocar dados difíceis de explicar e entender\n",
        "  - vizualisar o que será abordado nos dados, entender cada passo e explicar de forma simples e direta.\n",
        "\n",
        "\n",
        "Um pouco mais sobre a necessidade de entender Estatística em DS.\n",
        "  https://towardsdatascience.com/why-is-statistics-important-in-data-science-machine-learning-and-analytics-92b4a410f686"
      ],
      "metadata": {
        "id": "rkUTuYYBgW49"
      }
    },
    {
      "cell_type": "code",
      "execution_count": null,
      "metadata": {
        "id": "iQa6R-J9YNmq"
      },
      "outputs": [],
      "source": []
    }
  ]
}